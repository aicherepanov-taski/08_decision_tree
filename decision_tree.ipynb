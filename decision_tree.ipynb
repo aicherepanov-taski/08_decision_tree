{
 "cells": [
  {
   "cell_type": "markdown",
   "metadata": {},
   "source": [
    "## Задание 1\n",
    "\n",
    "Реализовать вычисление энтропии и посчитать её значение для:\n",
    "\n",
    "(0.2, 0.2, 0.2, 0.2, 0.2)\n",
    "(0.5, 0.5)\n",
    "(0.9, 0.05, 0.05, 0)\n",
    "(0, 0, 0, 0, 1, 0)\n",
    "\n",
    "Объяснить полученные результаты"
   ]
  },
  {
   "cell_type": "code",
   "execution_count": 22,
   "metadata": {},
   "outputs": [],
   "source": [
    "import numpy as np"
   ]
  },
  {
   "cell_type": "code",
   "execution_count": 23,
   "metadata": {},
   "outputs": [
    {
     "data": {
      "text/plain": [
       "{'divide': 'ignore', 'over': 'warn', 'under': 'ignore', 'invalid': 'ignore'}"
      ]
     },
     "execution_count": 23,
     "metadata": {},
     "output_type": "execute_result"
    }
   ],
   "source": [
    "np.seterr(divide = 'ignore')\n",
    "np.seterr(invalid = 'ignore')"
   ]
  },
  {
   "cell_type": "code",
   "execution_count": 24,
   "metadata": {},
   "outputs": [],
   "source": [
    "arr1 = np.array((0.2, 0.2, 0.2, 0.2, 0.2))\n",
    "arr2 = np.array((0.5, 0.5))\n",
    "arr3 = np.array((0.9, 0.05, 0.05, 0))\n",
    "arr4 = np.array((0, 0, 0, 0, 1, 0))"
   ]
  },
  {
   "cell_type": "code",
   "execution_count": 25,
   "metadata": {},
   "outputs": [],
   "source": [
    "def Entropy(arr):\n",
    "    return -np.nansum(arr * np.log2(arr))"
   ]
  },
  {
   "cell_type": "code",
   "execution_count": 26,
   "metadata": {},
   "outputs": [
    {
     "name": "stdout",
     "output_type": "stream",
     "text": [
      "2.321928094887362\n",
      "1.0\n",
      "0.5689955935892812\n",
      "-0.0\n"
     ]
    }
   ],
   "source": [
    "print(Entropy(arr1))\n",
    "print(Entropy(arr2))\n",
    "print(Entropy(arr3))\n",
    "print(Entropy(arr4))"
   ]
  },
  {
   "cell_type": "markdown",
   "metadata": {},
   "source": [
    "Разбиение 1: Максимальная энтропия - вероятности равны, распределение равномерное (поровну объектов каждого класса) <br> Разбиение 2: Классов меньше - энтропия ниже, но вероятности также равны (поровну объектов каждого класса) <br> Разбиение 3: Вероятность для первого класса больше, чем для других, поэтому энтропия ниже <br> Разбиение 4: Нулевая энтропия - в вершине только один класс"
   ]
  },
  {
   "cell_type": "code",
   "execution_count": null,
   "metadata": {},
   "outputs": [],
   "source": []
  }
 ],
 "metadata": {
  "kernelspec": {
   "display_name": "Python 3",
   "language": "python",
   "name": "python3"
  },
  "language_info": {
   "codemirror_mode": {
    "name": "ipython",
    "version": 3
   },
   "file_extension": ".py",
   "mimetype": "text/x-python",
   "name": "python",
   "nbconvert_exporter": "python",
   "pygments_lexer": "ipython3",
   "version": "3.8.5"
  }
 },
 "nbformat": 4,
 "nbformat_minor": 4
}
